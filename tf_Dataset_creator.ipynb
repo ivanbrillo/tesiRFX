{
 "cells": [
  {
   "cell_type": "code",
   "execution_count": 51,
   "id": "initial_id",
   "metadata": {
    "collapsed": true,
    "ExecuteTime": {
     "end_time": "2023-11-28T06:15:15.513751300Z",
     "start_time": "2023-11-28T06:14:44.365056800Z"
    }
   },
   "outputs": [
    {
     "name": "stdout",
     "output_type": "stream",
     "text": [
      "len db with duplicates: 463\n",
      "len db without duplicates: 239\n"
     ]
    }
   ],
   "source": [
    "import pandas as pd\n",
    "import tesiRFX.data_parser as data_parser  # custom module\n",
    "\n",
    "database = data_parser.create_db(\"tesiRFX/data\")\n",
    "series_list = [data_dict[\"time_data\"].to_numpy() for data_dict in database]\n",
    "df = pd.DataFrame(series_list)  # each time series in a separate row"
   ]
  },
  {
   "cell_type": "code",
   "execution_count": 60,
   "outputs": [
    {
     "data": {
      "text/plain": "          0    1      2     3   4\n0  22-04-05  DBD  12kHz  180s  1w\n1  22-04-05  DBD  12kHz  180s  1w\n2  22-04-05  DBD  12kHz  180s  1w\n3  22-04-05  DBD  12kHz  180s  1w\n4  22-04-05  DBD  12kHz  180s  1w",
      "text/html": "<div>\n<style scoped>\n    .dataframe tbody tr th:only-of-type {\n        vertical-align: middle;\n    }\n\n    .dataframe tbody tr th {\n        vertical-align: top;\n    }\n\n    .dataframe thead th {\n        text-align: right;\n    }\n</style>\n<table border=\"1\" class=\"dataframe\">\n  <thead>\n    <tr style=\"text-align: right;\">\n      <th></th>\n      <th>0</th>\n      <th>1</th>\n      <th>2</th>\n      <th>3</th>\n      <th>4</th>\n    </tr>\n  </thead>\n  <tbody>\n    <tr>\n      <th>0</th>\n      <td>22-04-05</td>\n      <td>DBD</td>\n      <td>12kHz</td>\n      <td>180s</td>\n      <td>1w</td>\n    </tr>\n    <tr>\n      <th>1</th>\n      <td>22-04-05</td>\n      <td>DBD</td>\n      <td>12kHz</td>\n      <td>180s</td>\n      <td>1w</td>\n    </tr>\n    <tr>\n      <th>2</th>\n      <td>22-04-05</td>\n      <td>DBD</td>\n      <td>12kHz</td>\n      <td>180s</td>\n      <td>1w</td>\n    </tr>\n    <tr>\n      <th>3</th>\n      <td>22-04-05</td>\n      <td>DBD</td>\n      <td>12kHz</td>\n      <td>180s</td>\n      <td>1w</td>\n    </tr>\n    <tr>\n      <th>4</th>\n      <td>22-04-05</td>\n      <td>DBD</td>\n      <td>12kHz</td>\n      <td>180s</td>\n      <td>1w</td>\n    </tr>\n  </tbody>\n</table>\n</div>"
     },
     "execution_count": 60,
     "metadata": {},
     "output_type": "execute_result"
    }
   ],
   "source": [
    "date_list = [data_dict[\"date\"] for data_dict in database]\n",
    "type_list = [data_dict[\"type\"] for data_dict in database]\n",
    "frequency_list = [data_dict[\"frequency\"] for data_dict in database]\n",
    "exp_time_list = [data_dict[\"exposure time\"] for data_dict in database]\n",
    "supp_delay_list = [data_dict[\"supply delay\"] for data_dict in database]\n",
    "\n",
    "# each row is a label of the corresponding column \n",
    "labels_df = pd.DataFrame([date_list, type_list, frequency_list, exp_time_list, supp_delay_list]).transpose()\n",
    "labels_df.head()"
   ],
   "metadata": {
    "collapsed": false,
    "ExecuteTime": {
     "end_time": "2023-11-28T06:19:09.410447700Z",
     "start_time": "2023-11-28T06:19:09.310469400Z"
    }
   },
   "id": "6c79daaed028aae4"
  },
  {
   "cell_type": "code",
   "execution_count": 58,
   "outputs": [
    {
     "name": "stdout",
     "output_type": "stream",
     "text": [
      "tf.Tensor([ 239 1800], shape=(2,), dtype=int32)\n",
      "<_TakeDataset element_spec=TensorSpec(shape=(1800,), dtype=tf.float64, name=None)>\n"
     ]
    }
   ],
   "source": [
    "import tensorflow as tf\n",
    "\n",
    "ds = tf.data.Dataset.from_tensor_slices(df)\n",
    "\n",
    "# check correct shapes\n",
    "dataset_to_numpy = list(ds.as_numpy_iterator())\n",
    "print(tf.shape(dataset_to_numpy))\n",
    "print(ds.take(1))"
   ],
   "metadata": {
    "collapsed": false,
    "ExecuteTime": {
     "end_time": "2023-11-28T06:17:04.312901800Z",
     "start_time": "2023-11-28T06:17:04.108448300Z"
    }
   },
   "id": "c1bf0325b806e9ca"
  },
  {
   "cell_type": "code",
   "execution_count": 62,
   "outputs": [
    {
     "name": "stdout",
     "output_type": "stream",
     "text": [
      "tf.Tensor([239   5], shape=(2,), dtype=int32)\n",
      "<_TakeDataset element_spec=TensorSpec(shape=(5,), dtype=tf.string, name=None)>\n"
     ]
    }
   ],
   "source": [
    "ds_labels = tf.data.Dataset.from_tensor_slices(labels_df)\n",
    "\n",
    "# check correct shapes\n",
    "dataset_to_numpy = list(ds_labels.as_numpy_iterator())\n",
    "print(tf.shape(dataset_to_numpy))\n",
    "print(ds_labels.take(1))"
   ],
   "metadata": {
    "collapsed": false,
    "ExecuteTime": {
     "end_time": "2023-11-28T06:19:39.895298800Z",
     "start_time": "2023-11-28T06:19:39.778315500Z"
    }
   },
   "id": "5067afb965cd615d"
  }
 ],
 "metadata": {
  "kernelspec": {
   "display_name": "Python 3",
   "language": "python",
   "name": "python3"
  },
  "language_info": {
   "codemirror_mode": {
    "name": "ipython",
    "version": 2
   },
   "file_extension": ".py",
   "mimetype": "text/x-python",
   "name": "python",
   "nbconvert_exporter": "python",
   "pygments_lexer": "ipython2",
   "version": "2.7.6"
  }
 },
 "nbformat": 4,
 "nbformat_minor": 5
}

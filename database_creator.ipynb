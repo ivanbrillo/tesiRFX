{
 "nbformat": 4,
 "nbformat_minor": 0,
 "metadata": {
  "colab": {
   "provenance": []
  },
  "kernelspec": {
   "name": "python3",
   "language": "python",
   "display_name": "Python 3 (ipykernel)"
  },
  "language_info": {
   "name": "python"
  }
 },
 "cells": [
  {
   "cell_type": "markdown",
   "source": [
    "# Database Creation and Visualization"
   ],
   "metadata": {
    "id": "F0H5NBMSmIu0"
   }
  },
  {
   "cell_type": "code",
   "source": [
    "import tesiRFX.data_parser as data_parser   # custom module\n",
    "database = data_parser.create_db(\"tesiRFX/data\")"
   ],
   "metadata": {
    "id": "yHHNqEmC_0Wc",
    "executionInfo": {
     "status": "ok",
     "timestamp": 1699274646776,
     "user_tz": -60,
     "elapsed": 20462,
     "user": {
      "displayName": "Ivan Brillo",
      "userId": "07732467205798131314"
     }
    },
    "is_executing": true
   },
   "execution_count": null,
   "outputs": []
  },
  {
   "cell_type": "code",
   "source": [
    "data_parser.print_metadata_list(database, 240)  # print first ten elements"
   ],
   "metadata": {
    "id": "ha7tAaclZPPN",
    "executionInfo": {
     "status": "ok",
     "timestamp": 1699274646777,
     "user_tz": -60,
     "elapsed": 8,
     "user": {
      "displayName": "Ivan Brillo",
      "userId": "07732467205798131314"
     }
    },
    "ExecuteTime": {
     "start_time": "2023-11-28T15:57:32.585478400Z"
    }
   },
   "execution_count": 1,
   "outputs": [
    {
     "ename": "NameError",
     "evalue": "name 'data_parser' is not defined",
     "output_type": "error",
     "traceback": [
      "\u001B[1;31m---------------------------------------------------------------------------\u001B[0m",
      "\u001B[1;31mNameError\u001B[0m                                 Traceback (most recent call last)",
      "Cell \u001B[1;32mIn[1], line 1\u001B[0m\n\u001B[1;32m----> 1\u001B[0m \u001B[43mdata_parser\u001B[49m\u001B[38;5;241m.\u001B[39mprint_metadata_list(database, \u001B[38;5;241m240\u001B[39m)  \u001B[38;5;66;03m# print first ten elements\u001B[39;00m\n",
      "\u001B[1;31mNameError\u001B[0m: name 'data_parser' is not defined"
     ]
    }
   ]
  },
  {
   "cell_type": "markdown",
   "source": [
    "# Random time series Plotting\n"
   ],
   "metadata": {
    "id": "zOePz1uDmPMr"
   }
  },
  {
   "cell_type": "code",
   "source": [
    "import random\n",
    "import tesiRFX.plot_drawer as plot_drawer   # custom module\n",
    "\n",
    "random_sample = random.sample(database, 4)   # random sample of 4 elements\n",
    "plot_drawer.plot(random_sample)"
   ],
   "metadata": {
    "colab": {
     "base_uri": "https://localhost:8080/",
     "height": 0
    },
    "id": "9siKfxFomaDy",
    "executionInfo": {
     "status": "ok",
     "timestamp": 1699274647545,
     "user_tz": -60,
     "elapsed": 774,
     "user": {
      "displayName": "Ivan Brillo",
      "userId": "07732467205798131314"
     }
    },
    "outputId": "ca1b1230-603b-4211-c511-41b762cde113",
    "ExecuteTime": {
     "start_time": "2023-11-28T15:57:33.271104500Z"
    }
   },
   "execution_count": null,
   "outputs": []
  }
 ]
}

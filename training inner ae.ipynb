{
 "cells": [
  {
   "cell_type": "code",
   "execution_count": null,
   "id": "initial_id",
   "metadata": {
    "collapsed": true
   },
   "outputs": [],
   "source": [
    "%%capture\n",
    "import os\n",
    "\n",
    "if os.getenv(\"COLAB_RELEASE_TAG\"):\n",
    "    !git clone https://github.com/ivanbrillo/tesiRFX\n",
    "    %cd tesiRFX\n",
    "    !rsync -a --exclude='*.ipynb' --exclude='*.git' ./ ../\n",
    "    %cd ..\n",
    "    !rm -rf tesiRFX\n",
    "    \n",
    "import tensorflow as tf\n",
    "from tensorflow.keras import layers\n",
    "import customLib.autoencoder_helper as helper\n",
    "from customLib.AE import AE, get_sequentials_outer"
   ]
  },
  {
   "cell_type": "code",
   "outputs": [],
   "source": [
    "train, test = helper.get_splitted_np(win_size=80, alpha=40)"
   ],
   "metadata": {
    "collapsed": false
   },
   "id": "f7a176c7aaddd39d"
  },
  {
   "cell_type": "code",
   "outputs": [],
   "source": [
    "autoencoder = AE(*get_sequentials_outer())\n",
    "autoencoder.set_trainable(False)\n",
    "autoencoder.build(input_shape=(None, 1800, 1))\n",
    "autoencoder.load_weights(\"./weights/convAE.h5\")"
   ],
   "metadata": {
    "collapsed": false
   },
   "id": "e81019d99c5eec3f"
  },
  {
   "cell_type": "code",
   "outputs": [],
   "source": [
    "def get_seq_fullAE():\n",
    "    encoder = tf.keras.Sequential([\n",
    "        layers.Input(shape=(1800, 1)),\n",
    "        autoencoder.encoder,\n",
    "        layers.Dense(70, activation='relu'),\n",
    "        layers.Dense(50, activation='relu'),\n",
    "        layers.Dense(30, activation='relu'),\n",
    "        layers.Dense(10, activation='relu'),\n",
    "        layers.Dense(2, activation='linear'),\n",
    "    ])\n",
    "\n",
    "    decoder = tf.keras.Sequential([\n",
    "        layers.Input(shape=(2,)),\n",
    "        layers.Dense(10, activation='linear'),\n",
    "        layers.Dense(30, activation='relu'),\n",
    "        layers.Dense(50, activation='relu'),\n",
    "        layers.Dense(70, activation='relu'),\n",
    "        layers.Dense(80, activation='linear'),\n",
    "        autoencoder.decoder,\n",
    "    ])\n",
    "\n",
    "    return encoder, decoder\n",
    "\n",
    "\n",
    "full_autoencoder = AE(*get_seq_fullAE())"
   ],
   "metadata": {
    "collapsed": false
   },
   "id": "1ceb51e59ca5a7df"
  },
  {
   "cell_type": "code",
   "outputs": [],
   "source": [
    "helper.train_and_evaluate(full_autoencoder, train, test, epochs_n=5000, apply_filter=True, show_latent=True, patience=400)"
   ],
   "metadata": {
    "collapsed": false
   },
   "id": "dc44554445636489"
  }
 ],
 "metadata": {
  "kernelspec": {
   "display_name": "Python 3",
   "language": "python",
   "name": "python3"
  },
  "language_info": {
   "codemirror_mode": {
    "name": "ipython",
    "version": 2
   },
   "file_extension": ".py",
   "mimetype": "text/x-python",
   "name": "python",
   "nbconvert_exporter": "python",
   "pygments_lexer": "ipython2",
   "version": "2.7.6"
  }
 },
 "nbformat": 4,
 "nbformat_minor": 5
}

{
 "cells": [
  {
   "cell_type": "code",
   "execution_count": 4,
   "id": "initial_id",
   "metadata": {
    "collapsed": true,
    "ExecuteTime": {
     "end_time": "2024-03-13T10:35:09.860191Z",
     "start_time": "2024-03-13T10:34:49.749730Z"
    }
   },
   "outputs": [],
   "source": [
    "%%capture\n",
    "import os\n",
    "\n",
    "if os.getenv(\"COLAB_RELEASE_TAG\"):\n",
    "    !git clone https://github.com/ivanbrillo/tesiRFX\n",
    "    %cd tesiRFX\n",
    "    !rsync -a --exclude='*.ipynb' --exclude='*.git' ./ ../\n",
    "    %cd ..\n",
    "    !rm -rf tesiRFX\n",
    "    \n",
    "import tensorflow as tf\n",
    "from tensorflow.keras import layers\n",
    "import customLib.autoencoder_helper as helper\n",
    "from customLib.AE import AE, get_sequentials_outer"
   ]
  },
  {
   "cell_type": "code",
   "outputs": [],
   "source": [
    "train, test = helper.get_splitted_np(win_size=80, alpha=40)"
   ],
   "metadata": {
    "collapsed": false
   },
   "id": "f7a176c7aaddd39d"
  },
  {
   "cell_type": "code",
   "outputs": [
    {
     "name": "stdout",
     "output_type": "stream",
     "text": [
      "Model: \"sequential_2\"\n",
      "_________________________________________________________________\n",
      " Layer (type)                Output Shape              Param #   \n",
      "=================================================================\n",
      " conv1d_2 (Conv1D)           (None, 450, 18)           1368      \n",
      "                                                                 \n",
      " conv1d_3 (Conv1D)           (None, 113, 28)           15148     \n",
      "                                                                 \n",
      " flatten_1 (Flatten)         (None, 3164)              0         \n",
      "                                                                 \n",
      " dense_8 (Dense)             (None, 140)               443100    \n",
      "                                                                 \n",
      " dense_9 (Dense)             (None, 120)               16920     \n",
      "                                                                 \n",
      " dense_10 (Dense)            (None, 100)               12100     \n",
      "                                                                 \n",
      " dense_11 (Dense)            (None, 80)                8080      \n",
      "                                                                 \n",
      "=================================================================\n",
      "Total params: 496716 (1.89 MB)\n",
      "Trainable params: 496716 (1.89 MB)\n",
      "Non-trainable params: 0 (0.00 Byte)\n",
      "_________________________________________________________________\n",
      "None\n",
      "Model: \"sequential_3\"\n",
      "_________________________________________________________________\n",
      " Layer (type)                Output Shape              Param #   \n",
      "=================================================================\n",
      " dense_12 (Dense)            (None, 100)               8100      \n",
      "                                                                 \n",
      " dense_13 (Dense)            (None, 120)               12120     \n",
      "                                                                 \n",
      " dense_14 (Dense)            (None, 140)               16940     \n",
      "                                                                 \n",
      " dense_15 (Dense)            (None, 3164)              446124    \n",
      "                                                                 \n",
      " reshape_1 (Reshape)         (None, 113, 28)           0         \n",
      "                                                                 \n",
      " conv1d_transpose_3 (Conv1D  (None, 450, 28)           23548     \n",
      " Transpose)                                                      \n",
      "                                                                 \n",
      " conv1d_transpose_4 (Conv1D  (None, 1800, 18)          37818     \n",
      " Transpose)                                                      \n",
      "                                                                 \n",
      " conv1d_transpose_5 (Conv1D  (None, 1800, 1)           1459      \n",
      " Transpose)                                                      \n",
      "                                                                 \n",
      "=================================================================\n",
      "Total params: 546109 (2.08 MB)\n",
      "Trainable params: 546109 (2.08 MB)\n",
      "Non-trainable params: 0 (0.00 Byte)\n",
      "_________________________________________________________________\n",
      "None\n"
     ]
    }
   ],
   "source": [
    "autoencoder = AE(*get_sequentials_outer())\n",
    "\n",
    "print(autoencoder.encoder.summary())\n",
    "print(autoencoder.decoder.summary())\n",
    "\n",
    "# autoencoder.set_trainable(False)\n",
    "# autoencoder.build(input_shape=(None, 1800, 1))\n",
    "# autoencoder.load_weights(\"./weights/convAE.h5\")"
   ],
   "metadata": {
    "collapsed": false,
    "ExecuteTime": {
     "end_time": "2024-03-13T10:35:25.610889Z",
     "start_time": "2024-03-13T10:35:24.818327Z"
    }
   },
   "id": "e81019d99c5eec3f",
   "execution_count": 6
  },
  {
   "cell_type": "code",
   "outputs": [],
   "source": [
    "def get_seq_fullAE():\n",
    "    encoder = tf.keras.Sequential([\n",
    "        layers.Input(shape=(1800, 1)),\n",
    "        autoencoder.encoder,\n",
    "        layers.Dense(70, activation='relu'),\n",
    "        layers.Dense(50, activation='relu'),\n",
    "        layers.Dense(30, activation='relu'),\n",
    "        layers.Dense(10, activation='relu'),\n",
    "        layers.Dense(2, activation='linear'),\n",
    "    ])\n",
    "\n",
    "    decoder = tf.keras.Sequential([\n",
    "        layers.Input(shape=(2,)),\n",
    "        layers.Dense(10, activation='linear'),\n",
    "        layers.Dense(30, activation='relu'),\n",
    "        layers.Dense(50, activation='relu'),\n",
    "        layers.Dense(70, activation='relu'),\n",
    "        layers.Dense(80, activation='linear'),\n",
    "        autoencoder.decoder,\n",
    "    ])\n",
    "\n",
    "    return encoder, decoder\n",
    "\n",
    "\n",
    "full_autoencoder = AE(*get_seq_fullAE())"
   ],
   "metadata": {
    "collapsed": false
   },
   "id": "1ceb51e59ca5a7df"
  },
  {
   "cell_type": "code",
   "outputs": [],
   "source": [
    "helper.train_and_evaluate(full_autoencoder, train, test, epochs_n=5000, apply_filter=True, show_latent=True, patience=400)"
   ],
   "metadata": {
    "collapsed": false
   },
   "id": "dc44554445636489"
  }
 ],
 "metadata": {
  "kernelspec": {
   "display_name": "Python 3",
   "language": "python",
   "name": "python3"
  },
  "language_info": {
   "codemirror_mode": {
    "name": "ipython",
    "version": 2
   },
   "file_extension": ".py",
   "mimetype": "text/x-python",
   "name": "python",
   "nbconvert_exporter": "python",
   "pygments_lexer": "ipython2",
   "version": "2.7.6"
  }
 },
 "nbformat": 4,
 "nbformat_minor": 5
}

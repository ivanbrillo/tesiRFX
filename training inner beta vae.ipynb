{
 "cells": [
  {
   "cell_type": "code",
   "execution_count": 6,
   "metadata": {
    "colab": {
     "base_uri": "https://localhost:8080/"
    },
    "executionInfo": {
     "elapsed": 4581,
     "status": "ok",
     "timestamp": 1709720711305,
     "user": {
      "displayName": "Ivan Brillo",
      "userId": "07732467205798131314"
     },
     "user_tz": -60
    },
    "id": "Nt7vatG7ev1Z",
    "outputId": "b3127cec-c8d9-4c29-afa2-4cc2cdeb15a1",
    "ExecuteTime": {
     "end_time": "2024-03-08T14:39:18.010005Z",
     "start_time": "2024-03-08T14:39:17.987202Z"
    }
   },
   "outputs": [],
   "source": [
    "%%capture\n",
    "import os\n",
    "import tensorflow as tf\n",
    "from tensorflow.keras import layers\n",
    "import customLib.autoencoder_helper as helper\n",
    "from customLib.betaVAE import VAE\n",
    "from customLib.AE import OuterConvAE\n",
    "\n",
    "if os.getenv(\"COLAB_RELEASE_TAG\"):\n",
    "    !git clone https://github.com/ivanbrillo/tesiRFX\n",
    "    %cd tesiRFX\n",
    "    !rsync -a --exclude='*.ipynb' --exclude='*.git' ./ ../\n",
    "    %cd..\n",
    "    !rm -rf tesiRFX"
   ]
  },
  {
   "cell_type": "code",
   "execution_count": null,
   "metadata": {
    "colab": {
     "base_uri": "https://localhost:8080/"
    },
    "executionInfo": {
     "elapsed": 29247,
     "status": "ok",
     "timestamp": 1709720744122,
     "user": {
      "displayName": "Ivan Brillo",
      "userId": "07732467205798131314"
     },
     "user_tz": -60
    },
    "id": "Mku7d4hyeyt3",
    "outputId": "82687452-cd91-4540-924c-2d881761eb12"
   },
   "outputs": [],
   "source": [
    "train, test = helper.get_splitted_np(win_size=80, alpha=40)"
   ]
  },
  {
   "cell_type": "code",
   "outputs": [],
   "source": [
    "autoencoder = OuterConvAE()\n",
    "autoencoder.set_trainable(False)\n",
    "autoencoder.build(input_shape=(None, 1800, 1))\n",
    "autoencoder.load_weights(\"./weights/convAE.h5\")"
   ],
   "metadata": {
    "collapsed": false
   }
  },
  {
   "cell_type": "code",
   "execution_count": 8,
   "metadata": {
    "executionInfo": {
     "elapsed": 501,
     "status": "ok",
     "timestamp": 1709720744599,
     "user": {
      "displayName": "Ivan Brillo",
      "userId": "07732467205798131314"
     },
     "user_tz": -60
    },
    "id": "isG39KjoThUc",
    "ExecuteTime": {
     "end_time": "2024-03-08T14:40:26.718678Z",
     "start_time": "2024-03-08T14:40:25.743692Z"
    }
   },
   "outputs": [],
   "source": [
    "def get_seq_fullAE():\n",
    "    encoder = tf.keras.Sequential([\n",
    "        layers.Input(shape=(1800, 1)),\n",
    "        autoencoder.encoder,\n",
    "        layers.Dense(70, activation='relu'),\n",
    "        layers.Dense(50, activation='relu'),\n",
    "        layers.Dense(30, activation='relu'),\n",
    "        layers.Dense(10, activation='relu'),\n",
    "        layers.Dense(2, activation='linear'),\n",
    "    ])\n",
    "\n",
    "    decoder = tf.keras.Sequential([\n",
    "        layers.Input(shape=(2,)),\n",
    "        layers.Dense(10, activation='linear'),\n",
    "        layers.Dense(30, activation='relu'),\n",
    "        layers.Dense(50, activation='relu'),\n",
    "        layers.Dense(70, activation='relu'),\n",
    "        layers.Dense(80, activation='linear'),\n",
    "        autoencoder.decoder,\n",
    "    ])\n",
    "\n",
    "    return encoder, decoder\n",
    "\n",
    "\n",
    "FullVAE = VAE(*get_seq_fullAE(), latent_dim=2)"
   ]
  },
  {
   "cell_type": "code",
   "execution_count": null,
   "metadata": {
    "colab": {
     "base_uri": "https://localhost:8080/",
     "height": 1000
    },
    "id": "Z469vFgPZoT4",
    "executionInfo": {
     "status": "ok",
     "timestamp": 1709722295744,
     "user_tz": -60,
     "elapsed": 1551150,
     "user": {
      "displayName": "Ivan Brillo",
      "userId": "07732467205798131314"
     }
    },
    "outputId": "5cf8f5a2-8d73-4a26-9a38-b1772b4d4762"
   },
   "outputs": [],
   "source": [
    "helper.train_and_evaluate(autoencoder, train, test, epochs_n=50, apply_filter=True, show_latent=True, patience=500, batch_size=400)"
   ]
  },
  {
   "cell_type": "code",
   "source": [
    "autoencoder.save_weights(\"outer.h5\")"
   ],
   "metadata": {
    "id": "jtDwF2O7TGKF",
    "executionInfo": {
     "status": "ok",
     "timestamp": 1709722296917,
     "user_tz": -60,
     "elapsed": 5,
     "user": {
      "displayName": "Ivan Brillo",
      "userId": "07732467205798131314"
     }
    }
   },
   "execution_count": null,
   "outputs": []
  }
 ],
 "metadata": {
  "accelerator": "GPU",
  "colab": {
   "gpuType": "T4",
   "provenance": []
  },
  "kernelspec": {
   "name": "python3",
   "language": "python",
   "display_name": "Python 3 (ipykernel)"
  },
  "language_info": {
   "name": "python"
  }
 },
 "nbformat": 4,
 "nbformat_minor": 0
}
